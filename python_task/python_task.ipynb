{
  "nbformat": 4,
  "nbformat_minor": 0,
  "metadata": {
    "colab": {
      "provenance": []
    },
    "kernelspec": {
      "name": "python3",
      "display_name": "Python 3"
    },
    "language_info": {
      "name": "python"
    }
  },
  "cells": [
    {
      "cell_type": "markdown",
      "source": [],
      "metadata": {
        "id": "CpHEJ88NKnOp"
      }
    },
    {
      "cell_type": "code",
      "execution_count": 3,
      "metadata": {
        "id": "z59-GSUDJhgP"
      },
      "outputs": [],
      "source": [
        "import pandas as pd\n",
        "import matplotlib.pyplot as plt"
      ]
    },
    {
      "cell_type": "code",
      "source": [
        "from sklearn.cluster import KMeans\n",
        "from mlxtend.frequent_patterns import apriori, association_rules\n",
        "from sklearn.model_selection import train_test_split\n",
        "from sklearn.ensemble import RandomForestClassifier\n",
        "from sklearn.metrics import accuracy_score, classification_report"
      ],
      "metadata": {
        "colab": {
          "base_uri": "https://localhost:8080/"
        },
        "id": "pDvh55gAf0Ll",
        "outputId": "0f43e602-52ed-4a19-8876-19c942578925"
      },
      "execution_count": 41,
      "outputs": [
        {
          "output_type": "stream",
          "name": "stderr",
          "text": [
            "/usr/local/lib/python3.10/dist-packages/ipykernel/ipkernel.py:283: DeprecationWarning: `should_run_async` will not call `transform_cell` automatically in the future. Please pass the result to `transformed_cell` argument and any exception that happen during thetransform in `preprocessing_exc_tuple` in IPython 7.17 and above.\n",
            "  and should_run_async(code)\n"
          ]
        }
      ]
    },
    {
      "cell_type": "markdown",
      "source": [
        "## Loading DataSet"
      ],
      "metadata": {
        "id": "Eugb1eDaKgxN"
      }
    },
    {
      "cell_type": "code",
      "source": [
        "data = pd.read_csv(\"/content/sales_data.csv\")"
      ],
      "metadata": {
        "id": "NTu6v93jJt0m"
      },
      "execution_count": 4,
      "outputs": []
    },
    {
      "cell_type": "markdown",
      "source": [
        "## Checking for Missing Values"
      ],
      "metadata": {
        "id": "L6tthB28Kzm0"
      }
    },
    {
      "cell_type": "code",
      "source": [
        "missing_values = data.isnull().sum()\n",
        "print(missing_values)"
      ],
      "metadata": {
        "colab": {
          "base_uri": "https://localhost:8080/"
        },
        "id": "HI4jfM83J8_G",
        "outputId": "a36a62b4-5a95-4e3e-ded2-9c080d59fb54"
      },
      "execution_count": 6,
      "outputs": [
        {
          "output_type": "stream",
          "name": "stdout",
          "text": [
            "order_id       0\n",
            "date           0\n",
            "customer_id    0\n",
            "product_id     0\n",
            "quantity       0\n",
            "price          0\n",
            "dtype: int64\n"
          ]
        }
      ]
    },
    {
      "cell_type": "markdown",
      "source": [
        "## Finding types of each column"
      ],
      "metadata": {
        "id": "RLcVcZgtLmjR"
      }
    },
    {
      "cell_type": "code",
      "source": [
        "print(\"Data types:\")\n",
        "print(data.dtypes)"
      ],
      "metadata": {
        "colab": {
          "base_uri": "https://localhost:8080/"
        },
        "id": "o1vLxPErLifu",
        "outputId": "a7dd3fa7-a1e3-4d07-9779-882dea5a78d6"
      },
      "execution_count": 7,
      "outputs": [
        {
          "output_type": "stream",
          "name": "stdout",
          "text": [
            "Data types of each column:\n",
            "order_id         int64\n",
            "date            object\n",
            "customer_id      int64\n",
            "product_id       int64\n",
            "quantity         int64\n",
            "price          float64\n",
            "dtype: object\n"
          ]
        }
      ]
    },
    {
      "cell_type": "markdown",
      "source": [
        "## Coverting date column to date type"
      ],
      "metadata": {
        "id": "JD0XzMhZLtAB"
      }
    },
    {
      "cell_type": "code",
      "source": [
        "data['date'] = pd.to_datetime(data['date'])"
      ],
      "metadata": {
        "id": "ThQrsZT5LAwb"
      },
      "execution_count": 8,
      "outputs": []
    },
    {
      "cell_type": "code",
      "source": [
        "print(\"Data types:\")\n",
        "print(data.dtypes)"
      ],
      "metadata": {
        "colab": {
          "base_uri": "https://localhost:8080/"
        },
        "id": "ttKzudsoL32F",
        "outputId": "e6fb5cf4-5ece-4b06-fe87-58ea57b65e1b"
      },
      "execution_count": 9,
      "outputs": [
        {
          "output_type": "stream",
          "name": "stdout",
          "text": [
            "Data types:\n",
            "order_id                int64\n",
            "date           datetime64[ns]\n",
            "customer_id             int64\n",
            "product_id              int64\n",
            "quantity                int64\n",
            "price                 float64\n",
            "dtype: object\n"
          ]
        }
      ]
    },
    {
      "cell_type": "markdown",
      "source": [
        "## EDA"
      ],
      "metadata": {
        "id": "c2g0UT4vPe4r"
      }
    },
    {
      "cell_type": "markdown",
      "source": [
        "### Calculating Total Sales for each order"
      ],
      "metadata": {
        "id": "An9Wg51gPvm0"
      }
    },
    {
      "cell_type": "code",
      "source": [
        "data['total_sales'] = data['quantity'] * data['price']"
      ],
      "metadata": {
        "id": "1ydKQxwoMfn0"
      },
      "execution_count": 10,
      "outputs": []
    },
    {
      "cell_type": "code",
      "source": [
        "print(\"Updated DataFrame:\")\n",
        "print(data)"
      ],
      "metadata": {
        "colab": {
          "base_uri": "https://localhost:8080/"
        },
        "id": "RmV0kkOdQexP",
        "outputId": "15faf0eb-2195-48d8-e942-dd634816f827"
      },
      "execution_count": 13,
      "outputs": [
        {
          "output_type": "stream",
          "name": "stdout",
          "text": [
            "Updated DataFrame:\n",
            "   order_id       date  customer_id  product_id  quantity  price  total_sales\n",
            "0         1 2023-01-01          101         501         2   15.0         30.0\n",
            "1         2 2023-01-02          102         502         1   25.0         25.0\n",
            "2         3 2023-01-03          101         503         1   45.0         45.0\n",
            "3         4 2023-02-01          103         501         3   15.0         45.0\n",
            "4         5 2023-02-10          103         504         2   35.0         70.0\n",
            "5         6 2023-03-05          105         505         5   10.0         50.0\n",
            "6         7 2023-03-15          101         506         2   20.0         40.0\n",
            "7         8 2023-04-01          102         507         4   30.0        120.0\n",
            "8         9 2023-05-01          106         508         3   25.0         75.0\n",
            "9        10 2023-06-01          107         509         2   50.0        100.0\n"
          ]
        }
      ]
    },
    {
      "cell_type": "code",
      "source": [
        "top_products = data.groupby('product_id')['total_sales'].sum().nlargest(5)"
      ],
      "metadata": {
        "id": "2cdgUBBGWXDv"
      },
      "execution_count": 19,
      "outputs": []
    },
    {
      "cell_type": "markdown",
      "source": [
        "### Trend over time"
      ],
      "metadata": {
        "id": "hmeO7FgfSdmJ"
      }
    },
    {
      "cell_type": "code",
      "source": [
        "monthly_sales = data.groupby(data['date'].dt.to_period('M'))['total_sales'].sum()"
      ],
      "metadata": {
        "id": "QY1IzhZXScxm"
      },
      "execution_count": 20,
      "outputs": []
    },
    {
      "cell_type": "code",
      "source": [
        "print(\"Monthly Sales Trend:\")\n",
        "print(monthly_sales)"
      ],
      "metadata": {
        "colab": {
          "base_uri": "https://localhost:8080/"
        },
        "id": "4MD9tEQ1Saxs",
        "outputId": "aba30753-6858-46de-c30b-b2cc6b0f6d64"
      },
      "execution_count": 21,
      "outputs": [
        {
          "output_type": "stream",
          "name": "stdout",
          "text": [
            "Monthly Sales Trend:\n",
            "date\n",
            "2023-01    100.0\n",
            "2023-02    115.0\n",
            "2023-03     90.0\n",
            "2023-04    120.0\n",
            "2023-05     75.0\n",
            "2023-06    100.0\n",
            "Freq: M, Name: total_sales, dtype: float64\n"
          ]
        }
      ]
    },
    {
      "cell_type": "markdown",
      "source": [
        "### Top 5 products by Sales"
      ],
      "metadata": {
        "id": "Z7o6RfaWTDHc"
      }
    },
    {
      "cell_type": "code",
      "source": [
        "top_products.plot(kind='bar', xlabel='Product ID', ylabel='Total Sales', color=['skyblue', 'salmon', 'lightgreen', 'orange', 'lightcoral'])\n"
      ],
      "metadata": {
        "colab": {
          "base_uri": "https://localhost:8080/",
          "height": 534
        },
        "id": "rqQZh_dPRi91",
        "outputId": "215540a2-b03a-4c54-dd93-64c3a3755b24"
      },
      "execution_count": 57,
      "outputs": [
        {
          "output_type": "stream",
          "name": "stderr",
          "text": [
            "/usr/local/lib/python3.10/dist-packages/ipykernel/ipkernel.py:283: DeprecationWarning: `should_run_async` will not call `transform_cell` automatically in the future. Please pass the result to `transformed_cell` argument and any exception that happen during thetransform in `preprocessing_exc_tuple` in IPython 7.17 and above.\n",
            "  and should_run_async(code)\n"
          ]
        },
        {
          "output_type": "execute_result",
          "data": {
            "text/plain": [
              "<Axes: xlabel='Product ID', ylabel='Total Sales'>"
            ]
          },
          "metadata": {},
          "execution_count": 57
        },
        {
          "output_type": "display_data",
          "data": {
            "text/plain": [
              "<Figure size 640x480 with 1 Axes>"
            ],
            "image/png": "[encoded data removed]"
          },
          "metadata": {}
        }
      ]
    },
    {
      "cell_type": "markdown",
      "source": [
        "### Customer Analysis"
      ],
      "metadata": {
        "id": "I749fIkpWwwR"
      }
    },
    {
      "cell_type": "code",
      "source": [
        "total_sales_per_customer = data.groupby('customer_id')['total_sales'].sum()\n",
        "top_customers = total_sales_per_customer.nlargest(5)\n",
        "total_sales_per_customer.hist(bins=20)\n",
        "plt.xlabel('Total Sales per Customer')\n",
        "plt.ylabel('Frequency')\n",
        "plt.title('Sales per Customer')"
      ],
      "metadata": {
        "colab": {
          "base_uri": "https://localhost:8080/",
          "height": 544
        },
        "id": "D5wnZjC_WiDH",
        "outputId": "8d1df87f-950a-4c37-e3c7-bf00886b652e"
      },
      "execution_count": 62,
      "outputs": [
        {
          "output_type": "stream",
          "name": "stderr",
          "text": [
            "/usr/local/lib/python3.10/dist-packages/ipykernel/ipkernel.py:283: DeprecationWarning: `should_run_async` will not call `transform_cell` automatically in the future. Please pass the result to `transformed_cell` argument and any exception that happen during thetransform in `preprocessing_exc_tuple` in IPython 7.17 and above.\n",
            "  and should_run_async(code)\n"
          ]
        },
        {
          "output_type": "execute_result",
          "data": {
            "text/plain": [
              "Text(0.5, 1.0, 'Sales per Customer')"
            ]
          },
          "metadata": {},
          "execution_count": 62
        },
        {
          "output_type": "display_data",
          "data": {
            "text/plain": [
              "<Figure size 640x480 with 1 Axes>"
            ],
            "image/png": "[encoded data removed]"
          },
          "metadata": {}
        }
      ]
    },
    {
      "cell_type": "markdown",
      "source": [
        "### Product Analysis"
      ],
      "metadata": {
        "id": "WKIO3QhMXCD0"
      }
    },
    {
      "cell_type": "code",
      "source": [
        "total_quantity_sold_per_product = data.groupby('product_id')['quantity'].sum()\n",
        "total_quantity_sold_per_product.hist(bins=20)\n",
        "plt.xlabel('Total Quantity Sold per Product')\n",
        "plt.ylabel('Frequency')\n",
        "plt.title('Quantity Sold per Product')"
      ],
      "metadata": {
        "colab": {
          "base_uri": "https://localhost:8080/",
          "height": 489
        },
        "id": "9cpP1UEQXBwT",
        "outputId": "f4a67898-ce43-4dcb-9c58-3c45cf2f3d94"
      },
      "execution_count": 25,
      "outputs": [
        {
          "output_type": "execute_result",
          "data": {
            "text/plain": [
              "Text(0.5, 1.0, 'Quantity Sold per Product')"
            ]
          },
          "metadata": {},
          "execution_count": 25
        },
        {
          "output_type": "display_data",
          "data": {
            "text/plain": [
              "<Figure size 640x480 with 1 Axes>"
            ],
            "image/png": "[encoded data removed]"
          },
          "metadata": {}
        }
      ]
    },
    {
      "cell_type": "markdown",
      "source": [
        "## Advanecd Analysis"
      ],
      "metadata": {
        "id": "lWYLTuhGZ428"
      }
    },
    {
      "cell_type": "markdown",
      "source": [
        "### Average Over Value (AOV)"
      ],
      "metadata": {
        "id": "F4ZYn-QXZ67l"
      }
    },
    {
      "cell_type": "code",
      "source": [
        "average_price_per_product = data.groupby('product_id')['price'].mean()"
      ],
      "metadata": {
        "id": "jPukqSJMW-Ia"
      },
      "execution_count": 27,
      "outputs": []
    },
    {
      "cell_type": "code",
      "source": [
        "monthly_purchases_per_customer = data.groupby(['customer_id', data['date'].dt.to_period('M')])['order_id'].count().reset_index(name='purchase_count')\n",
        "repeat_purchase_customers = monthly_purchases_per_customer[monthly_purchases_per_customer['purchase_count'] > 1]\n",
        "customer_count = len(data['customer_id'].unique())\n",
        "repeat_purchase_rate_over_time = len(repeat_purchase_customers) / customer_count"
      ],
      "metadata": {
        "id": "Xsc943JyXTGc"
      },
      "execution_count": 28,
      "outputs": []
    },
    {
      "cell_type": "code",
      "source": [
        "aov = data['total_sales'].mean()"
      ],
      "metadata": {
        "id": "aT1DH1J3ZvWO"
      },
      "execution_count": 30,
      "outputs": []
    },
    {
      "cell_type": "code",
      "source": [
        "print(\"Top 5 Customers by Total Sales:\")\n",
        "print(top_customers)\n",
        "print(\"Average Price per Product:\")\n",
        "print(average_price_per_product)\n",
        "print(\"Repeat Purchase Rate Over Time:\", repeat_purchase_rate_over_time)"
      ],
      "metadata": {
        "colab": {
          "base_uri": "https://localhost:8080/"
        },
        "id": "lmmhZYe3XeYn",
        "outputId": "be5a2be1-6823-4dde-9ec5-7528ed550de3"
      },
      "execution_count": 29,
      "outputs": [
        {
          "output_type": "stream",
          "name": "stdout",
          "text": [
            "Top 5 Customers by Total Sales:\n",
            "customer_id\n",
            "102    145.0\n",
            "101    115.0\n",
            "103    115.0\n",
            "107    100.0\n",
            "106     75.0\n",
            "Name: total_sales, dtype: float64\n",
            "Average Price per Product:\n",
            "product_id\n",
            "501    15.0\n",
            "502    25.0\n",
            "503    45.0\n",
            "504    35.0\n",
            "505    10.0\n",
            "506    20.0\n",
            "507    30.0\n",
            "508    25.0\n",
            "509    50.0\n",
            "Name: price, dtype: float64\n",
            "Repeat Purchase Rate Over Time: 0.3333333333333333\n"
          ]
        }
      ]
    },
    {
      "cell_type": "markdown",
      "source": [
        "### Repeat purchase rate"
      ],
      "metadata": {
        "id": "EbFZUzMmaSLf"
      }
    },
    {
      "cell_type": "code",
      "source": [
        "repeat_purchase_rate = (data['customer_id'].value_counts() > 1).mean()"
      ],
      "metadata": {
        "id": "qNSZd_A3aMcS"
      },
      "execution_count": 32,
      "outputs": []
    },
    {
      "cell_type": "code",
      "source": [
        "print(\"Average Order Value (AOV):\", aov)\n",
        "print(\"Repeat Purchase Rate:\", repeat_purchase_rate)"
      ],
      "metadata": {
        "colab": {
          "base_uri": "https://localhost:8080/"
        },
        "id": "B8fQjHMEaXdU",
        "outputId": "8e30adb8-2ed6-463d-bce7-78a6625e26db"
      },
      "execution_count": 33,
      "outputs": [
        {
          "output_type": "stream",
          "name": "stdout",
          "text": [
            "Average Order Value (AOV): 60.0\n",
            "Repeat Purchase Rate: 0.5\n"
          ]
        }
      ]
    },
    {
      "cell_type": "markdown",
      "source": [
        "## Customer Segmentation"
      ],
      "metadata": {
        "id": "iiggFd9NgDWk"
      }
    },
    {
      "cell_type": "code",
      "source": [
        "customer_features = data.groupby('customer_id').agg({\n",
        "    'total_sales': 'sum',\n",
        "    'order_id': 'count',\n",
        "    'total_sales': 'mean'\n",
        "}).reset_index()"
      ],
      "metadata": {
        "colab": {
          "base_uri": "https://localhost:8080/"
        },
        "id": "yuErKxutaaci",
        "outputId": "a15b4d5d-a713-48e4-98b2-de2301b11c58"
      },
      "execution_count": 36,
      "outputs": [
        {
          "output_type": "stream",
          "name": "stderr",
          "text": [
            "/usr/local/lib/python3.10/dist-packages/ipykernel/ipkernel.py:283: DeprecationWarning: `should_run_async` will not call `transform_cell` automatically in the future. Please pass the result to `transformed_cell` argument and any exception that happen during thetransform in `preprocessing_exc_tuple` in IPython 7.17 and above.\n",
            "  and should_run_async(code)\n"
          ]
        }
      ]
    },
    {
      "cell_type": "code",
      "source": [
        "kmeans = KMeans(n_clusters=3, random_state=42)\n",
        "customer_features['cluster'] = kmeans.fit_predict(customer_features.drop('customer_id', axis=1))\n"
      ],
      "metadata": {
        "colab": {
          "base_uri": "https://localhost:8080/"
        },
        "id": "XuqNZf1RgGnE",
        "outputId": "6d128122-dca0-4a9b-a8b2-e1cbd6c2f6c3"
      },
      "execution_count": 37,
      "outputs": [
        {
          "output_type": "stream",
          "name": "stderr",
          "text": [
            "/usr/local/lib/python3.10/dist-packages/ipykernel/ipkernel.py:283: DeprecationWarning: `should_run_async` will not call `transform_cell` automatically in the future. Please pass the result to `transformed_cell` argument and any exception that happen during thetransform in `preprocessing_exc_tuple` in IPython 7.17 and above.\n",
            "  and should_run_async(code)\n",
            "/usr/local/lib/python3.10/dist-packages/sklearn/cluster/_kmeans.py:870: FutureWarning: The default value of `n_init` will change from 10 to 'auto' in 1.4. Set the value of `n_init` explicitly to suppress the warning\n",
            "  warnings.warn(\n"
          ]
        }
      ]
    },
    {
      "cell_type": "markdown",
      "source": [
        "### Market Basket Analysis"
      ],
      "metadata": {
        "id": "S-Otn1qkh11i"
      }
    },
    {
      "cell_type": "code",
      "source": [
        "basket = data.groupby(['order_id', 'product_id'])['quantity'].sum().unstack().reset_index().fillna(0).set_index('order_id')\n",
        "basket_encoded = basket.applymap(lambda x: 1 if x > 0 else 0)"
      ],
      "metadata": {
        "colab": {
          "base_uri": "https://localhost:8080/"
        },
        "id": "oSYB5dfEgO8g",
        "outputId": "80f7b982-0267-44ac-c2f9-da3a5f59373b"
      },
      "execution_count": 38,
      "outputs": [
        {
          "output_type": "stream",
          "name": "stderr",
          "text": [
            "/usr/local/lib/python3.10/dist-packages/ipykernel/ipkernel.py:283: DeprecationWarning: `should_run_async` will not call `transform_cell` automatically in the future. Please pass the result to `transformed_cell` argument and any exception that happen during thetransform in `preprocessing_exc_tuple` in IPython 7.17 and above.\n",
            "  and should_run_async(code)\n"
          ]
        }
      ]
    },
    {
      "cell_type": "code",
      "source": [
        "frequent_itemsets = apriori(basket_encoded, min_support=0.05, use_colnames=True)\n",
        "rules = association_rules(frequent_itemsets, metric=\"lift\", min_threshold=1)"
      ],
      "metadata": {
        "colab": {
          "base_uri": "https://localhost:8080/"
        },
        "id": "szqlgmZ-gVcs",
        "outputId": "2285d6d3-cd39-4de1-9875-ba2774c3f4c5"
      },
      "execution_count": 39,
      "outputs": [
        {
          "output_type": "stream",
          "name": "stderr",
          "text": [
            "/usr/local/lib/python3.10/dist-packages/ipykernel/ipkernel.py:283: DeprecationWarning: `should_run_async` will not call `transform_cell` automatically in the future. Please pass the result to `transformed_cell` argument and any exception that happen during thetransform in `preprocessing_exc_tuple` in IPython 7.17 and above.\n",
            "  and should_run_async(code)\n",
            "/usr/local/lib/python3.10/dist-packages/mlxtend/frequent_patterns/fpcommon.py:110: DeprecationWarning: DataFrames with non-bool types result in worse computationalperformance and their support might be discontinued in the future.Please use a DataFrame with bool type\n",
            "  warnings.warn(\n"
          ]
        }
      ]
    },
    {
      "cell_type": "code",
      "source": [
        "print(\"Customer Segmentation:\")\n",
        "print(customer_features)\n",
        "print(\"Association Rules:\")\n",
        "print(rules)"
      ],
      "metadata": {
        "colab": {
          "base_uri": "https://localhost:8080/"
        },
        "id": "6OS8m9H-gZgT",
        "outputId": "aade7dba-3832-45a9-be28-21ec8ee1dc55"
      },
      "execution_count": 40,
      "outputs": [
        {
          "output_type": "stream",
          "name": "stdout",
          "text": [
            "Customer Segmentation:\n",
            "   customer_id  total_sales  order_id  cluster\n",
            "0          101    38.333333         3        0\n",
            "1          102    72.500000         2        2\n",
            "2          103    57.500000         2        0\n",
            "3          105    50.000000         1        0\n",
            "4          106    75.000000         1        2\n",
            "5          107   100.000000         1        1\n",
            "Association Rules:\n",
            "Empty DataFrame\n",
            "Columns: [antecedents, consequents, antecedent support, consequent support, support, confidence, lift, leverage, conviction, zhangs_metric]\n",
            "Index: []\n"
          ]
        },
        {
          "output_type": "stream",
          "name": "stderr",
          "text": [
            "/usr/local/lib/python3.10/dist-packages/ipykernel/ipkernel.py:283: DeprecationWarning: `should_run_async` will not call `transform_cell` automatically in the future. Please pass the result to `transformed_cell` argument and any exception that happen during thetransform in `preprocessing_exc_tuple` in IPython 7.17 and above.\n",
            "  and should_run_async(code)\n"
          ]
        }
      ]
    }
  ]
}